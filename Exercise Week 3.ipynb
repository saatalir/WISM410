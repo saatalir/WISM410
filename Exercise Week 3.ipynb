{
 "cells": [
  {
   "cell_type": "code",
   "execution_count": null,
   "metadata": {},
   "outputs": [],
   "source": [
    "# Set Jupyter to render directly to the screen\n",
    "%matplotlib inline\n",
    "\n",
    "# Import pandas and numpy for analysis\n",
    "import pandas as pd\n",
    "import numpy as np"
   ]
  },
  {
   "cell_type": "markdown",
   "metadata": {},
   "source": [
    "# Reading in the CSV file"
   ]
  },
  {
   "cell_type": "code",
   "execution_count": null,
   "metadata": {},
   "outputs": [],
   "source": [
    "def read_data(filename):\n",
    "    '''\n",
    "    This reads the .csv stored at the 'filename' location and returns a DataFrame\n",
    "    with two-level columns. The first level column contains the Exchange and the \n",
    "    second contains the type of market data, e.g. bid/ask, price/volume.\n",
    "    '''\n",
    "    df = pd.read_csv(filename, index_col=0)\n",
    "    df.columns = [df.columns.str[-7:], df.columns.str[:-8]]\n",
    "\n",
    "    return df"
   ]
  },
  {
   "cell_type": "code",
   "execution_count": null,
   "metadata": {},
   "outputs": [],
   "source": [
    "# Read the data for one of the stocks (HWG)\n",
    "\n",
    "filename = 'HWG.csv'\n",
    "market_data = read_data(filename)"
   ]
  },
  {
   "cell_type": "markdown",
   "metadata": {},
   "source": [
    "# Some Examples"
   ]
  },
  {
   "cell_type": "code",
   "execution_count": null,
   "metadata": {},
   "outputs": [],
   "source": [
    "# What is in the dataframe? (Display top 5 rows with the .head() DataFrame method.)\n",
    "\n",
    "market_data.head()"
   ]
  },
  {
   "cell_type": "code",
   "execution_count": null,
   "metadata": {},
   "outputs": [],
   "source": [
    "# Extracting the BidVolumes on Z-XHCHNG. Note how the printed value looks different \n",
    "# from the values printed for the DataFrame, as the single column is a Series.\n",
    "\n",
    "bid_volumes_Z = market_data['Z-XCHNG', 'BidVolume']\n",
    "bid_volumes_Z.head()"
   ]
  },
  {
   "cell_type": "code",
   "execution_count": null,
   "metadata": {},
   "outputs": [],
   "source": [
    "# Extracting the BidVolume at a specific time on Z-XHCHNG. This is just a number (float).\n",
    "\n",
    "time = '2018-01-05 10:20:00'\n",
    "\n",
    "bid_volume_Z_at_time = market_data.loc[time, ('Z-XCHNG', 'BidVolume')]\n",
    "bid_volume_Z_at_time"
   ]
  },
  {
   "cell_type": "code",
   "execution_count": null,
   "metadata": {},
   "outputs": [],
   "source": [
    "# Extracting a subset of observations, here the 1220th to the 1230th.\n",
    "\n",
    "market_data.iloc[1220:1230]"
   ]
  },
  {
   "cell_type": "code",
   "execution_count": null,
   "metadata": {},
   "outputs": [],
   "source": [
    "# Adding a new column based on a calculation of old columns\n",
    "\n",
    "bid_ask_spread_I = market_data['I-XCHNG', 'AskPrice'] - market_data['I-XCHNG', 'BidPrice']\n",
    "bid_ask_spread_Z = market_data['Z-XCHNG', 'AskPrice'] - market_data['Z-XCHNG', 'BidPrice']\n",
    "\n",
    "market_data['I-XCHNG', 'BidAskSpread'] = bid_ask_spread_I\n",
    "market_data['Z-XCHNG', 'BidAskSpread'] = bid_ask_spread_Z\n",
    "\n",
    "market_data.head()"
   ]
  },
  {
   "cell_type": "code",
   "execution_count": null,
   "metadata": {},
   "outputs": [],
   "source": [
    "# The resulting DataFrame still looks a bit disordered, it added the new columns to the end.\n",
    "# We can alphabetically sort the columns to clean things up a bit.\n",
    "\n",
    "market_data = market_data.sort_index(axis=1)\n",
    "market_data.head()"
   ]
  },
  {
   "cell_type": "code",
   "execution_count": null,
   "metadata": {},
   "outputs": [],
   "source": [
    "# If we want to iterate over each timestamp, we can easily do so.\n",
    "# Let's calculate the maximum BidAskSpread on I-XCHNG seen in the whole dataset.\n",
    "\n",
    "max_spread_seen = 0\n",
    "max_spread_seen_time = None\n",
    "\n",
    "for time, mkt_data_at_time in market_data.iterrows():\n",
    "    spread = mkt_data_at_time['I-XCHNG', 'BidAskSpread'] \n",
    "    \n",
    "    if spread > max_spread_seen:\n",
    "        max_spread_seen = spread\n",
    "        max_spread_seen_time = time\n",
    "\n",
    "print(max_spread_seen_time, max_spread_seen)"
   ]
  },
  {
   "cell_type": "code",
   "execution_count": null,
   "metadata": {},
   "outputs": [],
   "source": [
    "# Now let's do a comparison between different timestamps.\n",
    "# We will calculate the maximum price-increase of the I-XCHNG BidPrice for the whole dataset.\n",
    "\n",
    "max_price_increase = -999999\n",
    "max_price_increase_seen_time = None\n",
    "\n",
    "prev_time = None\n",
    "\n",
    "for time, mkt_data_at_time in market_data.iterrows():\n",
    "    if prev_time == None:\n",
    "        # Skip the first observation, there is no previous bid price yet.\n",
    "        prev_time = time\n",
    "        continue\n",
    "    \n",
    "    previous_bid_price = market_data.loc[prev_time, ('I-XCHNG', 'BidPrice')]  \n",
    "    current_bid_price = mkt_data_at_time['I-XCHNG', 'BidPrice']\n",
    "       \n",
    "    bid_price_increase = current_bid_price - previous_bid_price\n",
    "    \n",
    "    if bid_price_increase > max_price_increase:\n",
    "        max_price_increase = bid_price_increase\n",
    "        max_price_increase_seen_time = time\n",
    "        \n",
    "    # Update the previous time for the next iteration of the loop.\n",
    "    prev_time = time\n",
    "\n",
    "print(max_price_increase_seen_time, max_price_increase)"
   ]
  },
  {
   "cell_type": "markdown",
   "metadata": {},
   "source": [
    "# Exercise"
   ]
  },
  {
   "cell_type": "code",
   "execution_count": null,
   "metadata": {},
   "outputs": [],
   "source": [
    "# Now it's your turn. Start with plotting some of the values in the market_data DataFrame.\n",
    "# (Hint: It's a DataFrame method!)"
   ]
  },
  {
   "cell_type": "code",
   "execution_count": null,
   "metadata": {},
   "outputs": [],
   "source": []
  }
 ],
 "metadata": {
  "kernelspec": {
   "display_name": "Python 3.6",
   "language": "python",
   "name": "python3.6"
  },
  "language_info": {
   "codemirror_mode": {
    "name": "ipython",
    "version": 3
   },
   "file_extension": ".py",
   "mimetype": "text/x-python",
   "name": "python",
   "nbconvert_exporter": "python",
   "pygments_lexer": "ipython3",
   "version": "3.6.5"
  }
 },
 "nbformat": 4,
 "nbformat_minor": 2
}
